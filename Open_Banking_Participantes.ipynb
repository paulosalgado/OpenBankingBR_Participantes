{
  "nbformat": 4,
  "nbformat_minor": 0,
  "metadata": {
    "colab": {
      "name": "Open Banking - Participantes",
      "provenance": [],
      "collapsed_sections": [],
      "authorship_tag": "ABX9TyOvxRhWx1y7zjV86fWuxSoY",
      "include_colab_link": true
    },
    "kernelspec": {
      "name": "python3",
      "display_name": "Python 3"
    }
  },
  "cells": [
    {
      "cell_type": "markdown",
      "metadata": {
        "id": "view-in-github",
        "colab_type": "text"
      },
      "source": [
        "<a href=\"https://colab.research.google.com/github/paulosalgado/OpenBankingBR_Participantes/blob/main/Open_Banking_Participantes.ipynb\" target=\"_parent\"><img src=\"https://colab.research.google.com/assets/colab-badge.svg\" alt=\"Open In Colab\"/></a>"
      ]
    },
    {
      "cell_type": "code",
      "metadata": {
        "cellView": "code",
        "id": "kqFIg3XGYKid"
      },
      "source": [
        "import urllib.request as request_lib\n",
        "import json"
      ],
      "execution_count": 9,
      "outputs": []
    },
    {
      "cell_type": "code",
      "metadata": {
        "id": "ACEra0lOYc9U"
      },
      "source": [
        "participants_url = 'https://data.directory.openbankingbrasil.org.br/participants'\n",
        "\n",
        "request = request_lib.Request(participants_url)\n",
        "response = request_lib.urlopen(request)\n",
        "participants = json.loads(response.read().decode('utf-8'))\n",
        "\n",
        "#print(participants)"
      ],
      "execution_count": 10,
      "outputs": []
    },
    {
      "cell_type": "code",
      "metadata": {
        "colab": {
          "base_uri": "https://localhost:8080/"
        },
        "id": "6LVxEOdkcKGw",
        "outputId": "0d0d0808-1225-4937-f25a-63657ce935de"
      },
      "source": [
        "# CONFIG\n",
        "max_participants = 3\n",
        "print('Printing only first {} participants\\n'.format(max_participants))\n",
        "\n",
        "participants = participants[:max_participants]\n",
        "\n",
        "for participant in participants: \n",
        "\n",
        "  organisation_name = participant['OrganisationName']\n",
        "  authorisation_servers = participant['AuthorisationServers']\n",
        "\n",
        "  print(organisation_name)\n",
        "\n",
        "  for authorisation_server in authorisation_servers: \n",
        "\n",
        "    customer_friendly_name = authorisation_server['CustomerFriendlyName']\n",
        "    api_resources = authorisation_server['ApiResources']\n",
        "\n",
        "    print('\\n  - {}'.format(customer_friendly_name))\n",
        "    \n",
        "    for api_resource in api_resources: \n",
        "      \n",
        "      api_family_type = api_resource['ApiFamilyType']\n",
        "      api_version = api_resource['ApiVersion']\n",
        "      api_discovery_endpoints = api_resource['ApiDiscoveryEndpoints']\n",
        "\n",
        "      if len(api_discovery_endpoints) > 0: \n",
        "        for api_discovery_endpoint in api_discovery_endpoints: \n",
        "          api_endpoint = api_discovery_endpoint['ApiEndpoint']\n",
        "          print('    - {} v{} - {}'.format(api_family_type, api_version, api_endpoint))\n",
        "\n",
        "      else: \n",
        "        print('    - {} v{} - no endpoint'.format(api_family_type, api_version))\n",
        "    \n",
        "  print('\\n')"
      ],
      "execution_count": 11,
      "outputs": [
        {
          "output_type": "stream",
          "name": "stdout",
          "text": [
            "Printing only first 3 participants\n",
            "\n",
            "CCR DE OURO\n",
            "\n",
            "  - OURO\n",
            "    - admin v1 - https://api.sulcrediouro.com.br/open-banking/admin/v1/metrics\n",
            "    - channels v1 - https://api.sulcrediouro.com.br/open-banking/channels/v1/branches\n",
            "    - channels v1 - https://api.sulcrediouro.com.br/open-banking/channels/v1/electronic-channels\n",
            "    - channels v1 - https://api.sulcrediouro.com.br/open-banking/channels/v1/phone-channels\n",
            "    - channels v1 - https://api.sulcrediouro.com.br/open-banking/channels/v1/banking-agents\n",
            "    - channels v1 - https://api.sulcrediouro.com.br/open-banking/channels/v1/shared-automated-teller-machines\n",
            "    - discovery v1 - https://api.sulcrediouro.com.br/open-banking/discovery/v1/status\n",
            "    - discovery v1 - https://api.sulcrediouro.com.br/open-banking/discovery/v1/outages\n",
            "    - products-services v1 - https://api.sulcrediouro.com.br/open-banking/products-services/v1/personal-accounts\n",
            "    - products-services v1 - https://api.sulcrediouro.com.br/open-banking/products-services/v1/business-accounts\n",
            "    - products-services v1 - https://api.sulcrediouro.com.br/open-banking/products-services/v1/personal-loans\n",
            "    - products-services v1 - https://api.sulcrediouro.com.br/open-banking/products-services/v1/business-loans\n",
            "    - products-services v1 - https://api.sulcrediouro.com.br/open-banking/products-services/v1/personal-financings\n",
            "    - products-services v1 - https://api.sulcrediouro.com.br/open-banking/products-services/v1/business-financings\n",
            "    - products-services v1 - https://api.sulcrediouro.com.br/open-banking/products-services/v1/personal-invoice-financings\n",
            "    - products-services v1 - https://api.sulcrediouro.com.br/open-banking/products-services/v1/business-invoice-financings\n",
            "    - products-services v1 - https://api.sulcrediouro.com.br/open-banking/products-services/v1/personal-credit-cards\n",
            "    - products-services v1 - https://api.sulcrediouro.com.br/open-banking/products-services/v1/business-credit-cards\n",
            "    - products-services v1 - https://api.sulcrediouro.com.br/open-banking/products-services/v1/personal-unarranged-account-overdraft\n",
            "    - products-services v1 - https://api.sulcrediouro.com.br/open-banking/products-services/v1/business-unarranged-account-overdraft\n",
            "\n",
            "\n",
            "UNIPRIME ALLIANCE - CECM\n",
            "\n",
            "  - Uniprime Alliance\n",
            "    - admin v1 - https://openb.uniprime.com.br/alliance/open-banking/admin/v1/metrics\n",
            "    - discovery v1 - https://openb.uniprime.com.br/alliance/open-banking/discovery/v1/status\n",
            "    - products-services v1 - https://openb.uniprime.com.br/alliance/open-banking/products-services/v1/business-accounts\n",
            "    - products-services v1 - https://openb.uniprime.com.br/alliance/open-banking/products-services/v1/business-credit-cards\n",
            "    - products-services v1 - https://openb.uniprime.com.br/alliance/open-banking/products-services/v1/personal-accounts\n",
            "    - products-services v1 - https://openb.uniprime.com.br/alliance/open-banking/products-services/v1/personal-credit-cards\n",
            "    - channels v1 - https://openb.uniprime.com.br/alliance/open-banking/channels/v1/branches\n",
            "    - channels v1 - https://openb.uniprime.com.br/alliance/open-banking/channels/v1/electronic-channels\n",
            "    - channels v1 - https://openb.uniprime.com.br/alliance/open-banking/channels/v1/phone-channels\n",
            "\n",
            "\n",
            "BCO WOORI BANK DO BRASIL S.A.\n",
            "\n",
            "  - BANCO WOORI BANK DO BRASIL S.A\n",
            "    - payments-consents v1 - https://matls-auth.wooribank.com.br/open-banking/payments/v1/consents/{consentId}\n",
            "    - payments-consents v1 - https://matls-auth.wooribank.com.br/open-banking/payments/v1/consents\n",
            "    - payments-pix v1 - https://matls-auth.wooribank.com.br/open-banking/payments/v1/pix/payments\n",
            "    - payments-pix v1 - https://matls-auth.wooribank.com.br/open-banking/payments/v1/pix/payments/{paymentId}\n",
            "    - admin v1 - https://api.wooribank.com.br/open-banking/admin/v1/metrics\n",
            "    - discovery v1 - https://api.wooribank.com.br/open-banking/discovery/v1/outages\n",
            "    - discovery v1 - https://api.wooribank.com.br/open-banking/discovery/v1/status\n",
            "\n",
            "\n"
          ]
        }
      ]
    }
  ]
}