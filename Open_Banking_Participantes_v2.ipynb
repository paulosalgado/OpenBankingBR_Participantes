{
  "nbformat": 4,
  "nbformat_minor": 0,
  "metadata": {
    "colab": {
      "name": "Open Banking - Participantes v2",
      "provenance": [],
      "collapsed_sections": [],
      "authorship_tag": "ABX9TyPsqsUdvGaTyl3hGvmVgwSO",
      "include_colab_link": true
    },
    "kernelspec": {
      "name": "python3",
      "display_name": "Python 3"
    }
  },
  "cells": [
    {
      "cell_type": "markdown",
      "metadata": {
        "id": "view-in-github",
        "colab_type": "text"
      },
      "source": [
        "<a href=\"https://colab.research.google.com/github/paulosalgado/OpenBankingBR_Participantes/blob/main/Open_Banking_Participantes_v2.ipynb\" target=\"_parent\"><img src=\"https://colab.research.google.com/assets/colab-badge.svg\" alt=\"Open In Colab\"/></a>"
      ]
    },
    {
      "cell_type": "code",
      "metadata": {
        "cellView": "code",
        "id": "kqFIg3XGYKid"
      },
      "source": [
        "import urllib.request as request_lib\n",
        "import json"
      ],
      "execution_count": 8,
      "outputs": []
    },
    {
      "cell_type": "code",
      "metadata": {
        "id": "ACEra0lOYc9U"
      },
      "source": [
        "# CONFIG\n",
        "participants_url = 'https://data.directory.openbankingbrasil.org.br/participants'\n",
        "\n",
        "participants_request = request_lib.Request(participants_url)\n",
        "participants_response = request_lib.urlopen(participants_request)\n",
        "participants = json.loads(participants_response.read().decode('utf-8'))\n",
        "\n",
        "#print(participants)"
      ],
      "execution_count": 9,
      "outputs": []
    },
    {
      "cell_type": "code",
      "metadata": {
        "colab": {
          "base_uri": "https://localhost:8080/"
        },
        "id": "QQzm7O6vdl4s",
        "outputId": "5570b32f-68e5-425b-f506-4330fee1a8e7"
      },
      "source": [
        "# CONFIG\n",
        "search_registered_name = 'itau'.lower()\n",
        "\n",
        "organisations = list(filter(lambda participant: search_registered_name in participant['RegisteredName'].lower(), participants))\n",
        "print('Found {} organization(s)\\n'.format(len(organisations)))\n",
        "\n",
        "for organization in organisations: \n",
        "  print(' - {}\\n   - OrganisationId: {}\\n'.format(organization['RegisteredName'], organization['OrganisationId']))"
      ],
      "execution_count": 10,
      "outputs": [
        {
          "output_type": "stream",
          "name": "stdout",
          "text": [
            "Found 4 organization(s)\n",
            "\n",
            " - BANCO ITAUCARD S.A.\n",
            "   - OrganisationId: b6b68aba-7b89-5981-8679-28a4244df514\n",
            "\n",
            " - ITAU CORRETORA DE VALORES S.A.\n",
            "   - OrganisationId: a773281f-9897-5e23-b422-ec72735f4f12\n",
            "\n",
            " - BANCO ITAUBANK S.A.\n",
            "   - OrganisationId: a3280c20-efe2-5634-907f-6ef2a42d2a7d\n",
            "\n",
            " - ITAUVEST DISTRIBUIDORA DE TITULOS E VALORES MOBILIARIOS S.A.\n",
            "   - OrganisationId: 67fdb0c2-bda1-52d8-a7dc-46ad1548dd76\n",
            "\n"
          ]
        }
      ]
    },
    {
      "cell_type": "code",
      "metadata": {
        "colab": {
          "base_uri": "https://localhost:8080/"
        },
        "id": "s933_p4yfcz0",
        "outputId": "01b0b5be-9e33-471a-9372-354a95a81104"
      },
      "source": [
        "# CONFIG\n",
        "organisation_id = 'b6b68aba-7b89-5981-8679-28a4244df514'\n",
        "\n",
        "authorisation_servers = list(filter(lambda organisation: organisation_id in organisation['OrganisationId'], organisations))[0]['AuthorisationServers']\n",
        "print('Found {} authorisation server(s)\\n'.format(len(authorisation_servers)))\n",
        "\n",
        "for authorisation_server in authorisation_servers: \n",
        "\n",
        "  api_resources = authorisation_server['ApiResources']\n",
        "  api_family_types = list(map(lambda resource: resource['ApiFamilyType'], api_resources))\n",
        "\n",
        "  print(' - {}\\n   - AuthorisationServerId: {}\\n   - Well Known: {}\\n   - API Resources: {} found - {}\\n'.format(\n",
        "      authorisation_server['CustomerFriendlyName'], \n",
        "      authorisation_server['AuthorisationServerId'], \n",
        "      authorisation_server['OpenIDDiscoveryDocument'], \n",
        "      len(api_resources), ', '.join(api_family_types)))"
      ],
      "execution_count": 11,
      "outputs": [
        {
          "output_type": "stream",
          "name": "stdout",
          "text": [
            "Found 5 authorisation server(s)\n",
            "\n",
            " - Iti\n",
            "   - AuthorisationServerId: 8197a3c9-11ad-4cfd-9bbf-4d6ad5d51f83\n",
            "   - Well Known: https://id.iti.opf.itau.com.br/.well-known/openid-configuration\n",
            "   - API Resources: 14 found - resources, products-services, discovery, credit-cards-accounts, payments-consents, accounts, channels, payments-pix, consents, customers-business, loans, admin, financings, customers-personal\n",
            "\n",
            " - Itaú\n",
            "   - AuthorisationServerId: 3944d195-e295-488f-9782-05fcfcc64d33\n",
            "   - Well Known: https://id.opf.itau.com.br/.well-known/openid-configuration\n",
            "   - API Resources: 12 found - consents, payments-pix, accounts, invoice-financings, customers-business, credit-cards-accounts, financings, unarranged-accounts-overdraft, resources, payments-consents, customers-personal, loans\n",
            "\n",
            " - Itaú BBA\n",
            "   - AuthorisationServerId: 2379d0f6-f238-4855-b914-a82265922691\n",
            "   - Well Known: https://id.itaubba.opf.itau.com.br/.well-known/openid-configuration\n",
            "   - API Resources: 9 found - financings, credit-cards-accounts, accounts, customers-personal, loans, resources, customers-business, consents, invoice-financings\n",
            "\n",
            " - Itaucard\n",
            "   - AuthorisationServerId: 07eb4546-97f8-4466-b867-b6c30c55858d\n",
            "   - Well Known: https://id.itaucard.opf.itau.com.br/.well-known/openid-configuration\n",
            "   - API Resources: 11 found - channels, discovery, credit-cards-accounts, resources, products-services, financings, loans, customers-personal, customers-business, admin, consents\n",
            "\n",
            " - Credicard\n",
            "   - AuthorisationServerId: 165dda80-d894-4a0a-82c6-1b06d7485bf5\n",
            "   - Well Known: https://id.credicard.opf.itau.com.br/.well-known/openid-configuration\n",
            "   - API Resources: 13 found - consents, resources, customers-personal, customers-business, payments-consents, discovery, payments-pix, channels, products-services, loans, credit-cards-accounts, admin, financings\n",
            "\n"
          ]
        }
      ]
    },
    {
      "cell_type": "code",
      "metadata": {
        "colab": {
          "base_uri": "https://localhost:8080/"
        },
        "id": "iLZOObJyfdKP",
        "outputId": "45d83790-4628-4692-a583-a75b0b25461e"
      },
      "source": [
        "# CONFIG\n",
        "authorisation_server_id = '3944d195-e295-488f-9782-05fcfcc64d33'\n",
        "\n",
        "authorisation_server = list(filter(lambda authorisation_server: authorisation_server_id in authorisation_server['AuthorisationServerId'], authorisation_servers))[0]\n",
        "\n",
        "well_known_url = authorisation_server['OpenIDDiscoveryDocument']\n",
        "well_known_request = request_lib.Request(well_known_url)\n",
        "well_known_response = request_lib.urlopen(well_known_request)\n",
        "well_known = json.loads(well_known_response.read().decode('utf-8'))\n",
        "\n",
        "print(json.dumps(well_known, indent=3))"
      ],
      "execution_count": 12,
      "outputs": [
        {
          "output_type": "stream",
          "name": "stdout",
          "text": [
            "{\n",
            "   \"issuer\": \"https://id.opf.itau.com.br\",\n",
            "   \"pushed_authorization_request_endpoint\": \"https://oauth2.opf.itau/as/par.oauth2\",\n",
            "   \"authorization_endpoint\": \"https://id.opf.itau.com.br/authorize\",\n",
            "   \"token_endpoint\": \"https://oauth2.opf.itau/as/token.oauth2\",\n",
            "   \"introspection_endpoint\": \"https://oauth2.opf.itau/introspect\",\n",
            "   \"revocation_endpoint\": \"https://oauth2.opf.itau/revoke\",\n",
            "   \"registration_endpoint\": \"https://oauth2.opf.itau/register\",\n",
            "   \"userinfo_endpoint\": \"https://oauth2.opf.itau/userinfo\",\n",
            "   \"jwks_uri\": \"https://id.opf.itau.com.br/JWKS\",\n",
            "   \"scopes_supported\": [\n",
            "      \"openid\",\n",
            "      \"consents\",\n",
            "      \"consent:*\",\n",
            "      \"resources\",\n",
            "      \"customers\",\n",
            "      \"accounts\",\n",
            "      \"credit-cards-accounts\",\n",
            "      \"loans\",\n",
            "      \"financings\",\n",
            "      \"invoice-financings\",\n",
            "      \"unarranged-accounts-overdraft\"\n",
            "   ],\n",
            "   \"claims_supported\": [\n",
            "      \"acr\",\n",
            "      \"consentId\",\n",
            "      \"iss\",\n",
            "      \"pi.sri\",\n",
            "      \"sub\"\n",
            "   ],\n",
            "   \"require_pushed_authorization_requests\": true,\n",
            "   \"code_challenge_methods_supported\": [\n",
            "      \"S256\"\n",
            "   ],\n",
            "   \"response_types_supported\": [\n",
            "      \"code id_token\",\n",
            "      \"id_token\"\n",
            "   ],\n",
            "   \"response_modes_supported\": [\n",
            "      \"fragment\",\n",
            "      \"query\",\n",
            "      \"form_post\"\n",
            "   ],\n",
            "   \"grant_types_supported\": [\n",
            "      \"implicit\",\n",
            "      \"authorization_code\",\n",
            "      \"refresh_token\",\n",
            "      \"client_credentials\",\n",
            "      \"urn:ietf:params:oauth:grant-type:jwt-bearer\"\n",
            "   ],\n",
            "   \"subject_types_supported\": [\n",
            "      \"pairwise\"\n",
            "   ],\n",
            "   \"acr_values_supported\": [\n",
            "      \"urn:brasil:openbanking:loa2\",\n",
            "      \"urn:brasil:openbanking:loa3\"\n",
            "   ],\n",
            "   \"token_endpoint_auth_methods_supported\": [\n",
            "      \"private_key_jwt\"\n",
            "   ],\n",
            "   \"revocation_endpoint_auth_methods_supported\": [\n",
            "      \"private_key_jwt\"\n",
            "   ],\n",
            "   \"introspection_endpoint_auth_methods_supported\": [\n",
            "      \"private_key_jwt\"\n",
            "   ],\n",
            "   \"claims_parameter_supported\": true,\n",
            "   \"request_parameter_supported\": true,\n",
            "   \"request_uri_parameter_supported\": true,\n",
            "   \"tls_client_certificate_bound_access_tokens\": true,\n",
            "   \"revocation_endpoint_auth_signing_alg_values_supported\": [\n",
            "      \"ES256\",\n",
            "      \"ES384\",\n",
            "      \"ES512\",\n",
            "      \"PS256\",\n",
            "      \"PS384\",\n",
            "      \"PS512\"\n",
            "   ],\n",
            "   \"token_endpoint_auth_signing_alg_values_supported\": [\n",
            "      \"ES256\",\n",
            "      \"ES384\",\n",
            "      \"ES512\",\n",
            "      \"PS256\",\n",
            "      \"PS384\",\n",
            "      \"PS512\"\n",
            "   ],\n",
            "   \"id_token_signing_alg_values_supported\": [\n",
            "      \"PS256\",\n",
            "      \"PS384\",\n",
            "      \"PS512\"\n",
            "   ],\n",
            "   \"request_object_signing_alg_values_supported\": [\n",
            "      \"ES256\",\n",
            "      \"ES384\",\n",
            "      \"ES512\",\n",
            "      \"PS256\",\n",
            "      \"PS384\",\n",
            "      \"PS512\"\n",
            "   ],\n",
            "   \"introspection_endpoint_auth_signing_alg_values_supported\": [\n",
            "      \"ES256\",\n",
            "      \"ES384\",\n",
            "      \"ES512\",\n",
            "      \"PS256\",\n",
            "      \"PS384\",\n",
            "      \"PS512\"\n",
            "   ],\n",
            "   \"id_token_encryption_alg_values_supported\": [\n",
            "      \"dir\",\n",
            "      \"A128KW\",\n",
            "      \"A192KW\",\n",
            "      \"A256KW\",\n",
            "      \"A128GCMKW\",\n",
            "      \"A192GCMKW\",\n",
            "      \"A256GCMKW\",\n",
            "      \"ECDH-ES\",\n",
            "      \"ECDH-ES+A128KW\",\n",
            "      \"ECDH-ES+A192KW\",\n",
            "      \"ECDH-ES+A256KW\",\n",
            "      \"RSA-OAEP\"\n",
            "   ],\n",
            "   \"id_token_encryption_enc_values_supported\": [\n",
            "      \"A128CBC-HS256\",\n",
            "      \"A192CBC-HS384\",\n",
            "      \"A256CBC-HS512\",\n",
            "      \"A128GCM\",\n",
            "      \"A192GCM\",\n",
            "      \"A256GCM\"\n",
            "   ],\n",
            "   \"request_object_encryption_alg_values_supported\": [\n",
            "      \"RSA-OAEP\"\n",
            "   ],\n",
            "   \"request_object_encryption_enc_values_supported\": [\n",
            "      \"none\"\n",
            "   ],\n",
            "   \"authorization_encryption_alg_values_supported\": [\n",
            "      \"RSA-OAEP\"\n",
            "   ],\n",
            "   \"authorization_encryption_enc_values_supported\": [\n",
            "      \"A256GCM\"\n",
            "   ],\n",
            "   \"mtls_endpoint_aliases\": {\n",
            "      \"pushed_authorization_request_endpoint\": \"https://oauth2.opf.itau/as/par.oauth2\",\n",
            "      \"token_endpoint\": \"https://oauth2.opf.itau/as/token.oauth2\",\n",
            "      \"revocation_endpoint\": \"https://oauth2.opf.itau/revoke\",\n",
            "      \"userinfo_endpoint\": \"https://oauth2.opf.itau/userinfo\",\n",
            "      \"introspection_endpoint\": \"https://oauth2.opf.itau/introspect\",\n",
            "      \"registration_endpoint\": \"https://oauth2.opf.itau/register\"\n",
            "   }\n",
            "}\n"
          ]
        }
      ]
    }
  ]
}